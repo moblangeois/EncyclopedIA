{
 "cells": [
  {
   "cell_type": "code",
   "execution_count": 1,
   "metadata": {},
   "outputs": [],
   "source": [
    "import pandas as pd\n",
    "\n",
    "# Charger le fichier original\n",
    "df = pd.read_csv('data/EDdA_dataframe_withContent.tsv', sep='\\t')\n",
    "\n",
    "# Nettoyage des colonnes non nécessaires\n",
    "columns_to_drop = ['firstParagraph', 'contentWithoutClass', 'ensemble_domaine_enccre', 'domaine_enccre', 'normClass']\n",
    "df_cleaned = df.drop(columns=columns_to_drop)\n",
    "\n",
    "# Enlever les trois premières lignes\n",
    "df_cleaned = df_cleaned.iloc[3:]\n",
    "\n",
    "# Sauvegarder les données nettoyées\n",
    "df_cleaned.to_csv('data/EDdA_dataframe_cleaned.tsv', sep='\\t', index=False)"
   ]
  },
  {
   "cell_type": "code",
   "execution_count": 2,
   "metadata": {},
   "outputs": [],
   "source": [
    "# Faire un sample de 100 lignes\n",
    "df_sample = df_cleaned.sample(100)\n",
    "df_sample.to_csv('data/EDdA_dataframe_sample.tsv', sep='\\t', index=False)"
   ]
  },
  {
   "cell_type": "code",
   "execution_count": 3,
   "metadata": {},
   "outputs": [
    {
     "name": "stdout",
     "output_type": "stream",
     "text": [
      "Nombre total de tokens : 36356811\n"
     ]
    }
   ],
   "source": [
    "import pandas as pd\n",
    "import tiktoken\n",
    "\n",
    "# Charger le fichier nettoyé\n",
    "df_cleaned = pd.read_csv('data/EDdA_dataframe_cleaned.tsv', sep='\\t')\n",
    "\n",
    "# Instancier le tokenizer pour l'encodage des tokens\n",
    "tokenizer = tiktoken.get_encoding(\"cl100k_base\")\n",
    "\n",
    "# Convertir la colonne 'content' en chaîne de caractères pour éviter les erreurs\n",
    "df_cleaned['content'] = df_cleaned['content'].astype(str)\n",
    "\n",
    "# Calculer le nombre total de tokens pour chaque texte de la colonne 'content'\n",
    "df_cleaned['token_count'] = df_cleaned['content'].apply(lambda x: len(tokenizer.encode(x)))\n",
    "\n",
    "# Calculer le nombre total de tokens dans le fichier\n",
    "total_tokens = df_cleaned['token_count'].sum()\n",
    "\n",
    "print(f\"Nombre total de tokens : {total_tokens}\")\n"
   ]
  },
  {
   "cell_type": "code",
   "execution_count": 4,
   "metadata": {},
   "outputs": [
    {
     "data": {
      "text/plain": [
       "(np.float64(0.72713622),\n",
       " np.float64(0.36356811),\n",
       " np.float64(4.7263854300000006),\n",
       " np.float64(2.3631927150000003),\n",
       " np.float64(3.6356811),\n",
       " np.float64(1.81784055))"
      ]
     },
     "execution_count": 4,
     "metadata": {},
     "output_type": "execute_result"
    }
   ],
   "source": [
    "# Modèle text-embedding-3-small\n",
    "cost_small = (total_tokens / 1_000_000) * 0.020\n",
    "batch_cost_small = (total_tokens / 1_000_000) * 0.010\n",
    "\n",
    "# Modèle text-embedding-3-large\n",
    "cost_large = (total_tokens / 1_000_000) * 0.130\n",
    "batch_cost_large = (total_tokens / 1_000_000) * 0.065\n",
    "\n",
    "# Modèle ada v2\n",
    "cost_ada = (total_tokens / 1_000_000) * 0.100\n",
    "batch_cost_ada = (total_tokens / 1_000_000) * 0.050\n",
    "\n",
    "cost_small, batch_cost_small, cost_large, batch_cost_large, cost_ada, batch_cost_ada"
   ]
  }
 ],
 "metadata": {
  "kernelspec": {
   "display_name": "venv",
   "language": "python",
   "name": "python3"
  },
  "language_info": {
   "codemirror_mode": {
    "name": "ipython",
    "version": 3
   },
   "file_extension": ".py",
   "mimetype": "text/x-python",
   "name": "python",
   "nbconvert_exporter": "python",
   "pygments_lexer": "ipython3",
   "version": "3.12.5"
  }
 },
 "nbformat": 4,
 "nbformat_minor": 2
}
